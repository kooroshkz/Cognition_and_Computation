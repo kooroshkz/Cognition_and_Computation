{
 "cells": [
  {
   "cell_type": "code",
   "execution_count": 1,
   "id": "c2b22420-2fde-4528-8611-d501c060f38d",
   "metadata": {
    "tags": []
   },
   "outputs": [],
   "source": [
    "import numpy as np\n",
    "import pandas as pd\n",
    "import matplotlib.pyplot as plt\n",
    "import seaborn as sns"
   ]
  },
  {
   "cell_type": "markdown",
   "id": "8651a8b2-b937-48b6-9c94-42d262c6cd01",
   "metadata": {},
   "source": [
    "Before starting this assignment, you should read the following papers:\n",
    "- Yonelinas, A. P. (1994). Receiver-Operating Characteristics in Recognition Memory: Evidence for a Dual-Process Model. Journal of Experimental Psychology. Learning, Memory, and Cognition, 20(6), 1341–1354. https://doi.org/10.1037/0278-7393.20.6.1341\n",
    "- Wixted, J. T. (2007). Dual-process theory and signal-detection theory of recognition memory. Psychological Review, 114(1), 152–176. https://doi.org/10.1037/0033-295X.114.1.152\n",
    "\n",
    "\n",
    "\n",
    "## Theory: Recognition memory\n",
    "\n",
    "Recognition memory entails the ability to determine whether an item has been shown before (during a study phase) or not. \n",
    "\n",
    "#### Experimental paradigm\n",
    "A typical experimental paradigm that probes recognition memory contains three phases:\n",
    "1. The study phase, in which a list of stimuli/items is presented (e.g., 'cat', 'dog', 'elephant', 'mouse'). Participants are instructed to pay attention and remember the items that are presented\n",
    "2. A retention phase, in which the participant engages in an unrelated task (for, e.g., 30 minutes)\n",
    "3. A test phase, in which a new list of stimuli/items is presented, which contain both items that were shown before (**targets**; e.g., 'dog', 'mouse') and items that were not shown in the study phase (**distractors/lures**; e.g., 'rat', 'monkey'). For each item, the participant is asked whether the item was shown in the study phase or not ('yes' or 'no').\n",
    "\n",
    "\n",
    "#### Empirical data\n",
    "In the test phase, participants respond 'yes' or 'no' to the question of whether the item was present in the study phase. Each item could have been either a target or a distractor. This gives a total of four 'responses types':\n",
    "- If the item was a target, and the participant correctly responded 'yes', we call this a 'hit'\n",
    "- If the item was a target, and the participant incorrectly responded 'no', we call this a 'miss'\n",
    "- If the item was a distractor, and the participant correctly responded 'no', we call this a 'correct rejection'\n",
    "- If the item was a distractor, and the participant incorrectly responded 'yes', we call this a 'false alarm'\n",
    "\n",
    "This is typically summarized in a decision matrix (or contingency table), where the *rows* refer to whether the stimulus was a target or a distractor, and the columns to the response of the participant:\n",
    "\n",
    "|   | Respond \"yes\"  | Respond \"no\"  | \n",
    "|---|---|---|\n",
    "| Target | hit  | miss  | \n",
    "| Distractor | false alarm |  correct rejection | \n",
    "| | | |\n",
    "\n",
    "For each participant, the percentages of hits, misses, false alarms, and correct rejections can be calculated. Example data can look as follows:"
   ]
  },
  {
   "cell_type": "code",
   "execution_count": 2,
   "id": "767d7bdc-229d-4f65-90dc-c485284e831e",
   "metadata": {
    "tags": []
   },
   "outputs": [
    {
     "name": "stdout",
     "output_type": "stream",
     "text": [
      "--2025-02-22 21:30:21--  https://surfdrive.surf.nl/files/index.php/s/fysjGRt1BcEUeT2/download\n",
      "Resolving surfdrive.surf.nl (surfdrive.surf.nl)... 145.107.56.140, 145.100.27.67, 2001:610:10b:2:0:a11:da7a:5afe, ...\n",
      "Connecting to surfdrive.surf.nl (surfdrive.surf.nl)|145.107.56.140|:443... connected.\n",
      "HTTP request sent, awaiting response... 200 OK\n",
      "Length: 3648 (3.6K) [text/csv]\n",
      "Saving to: ‘memory_data1.csv’\n",
      "\n",
      "memory_data1.csv    100%[===================>]   3.56K  --.-KB/s    in 0s      \n",
      "\n",
      "2025-02-22 21:30:22 (574 MB/s) - ‘memory_data1.csv’ saved [3648/3648]\n",
      "\n",
      "--2025-02-22 21:30:22--  https://surfdrive.surf.nl/files/index.php/s/lMHd1um7o3qEPLv/download\n",
      "Resolving surfdrive.surf.nl (surfdrive.surf.nl)... 145.100.27.67, 145.107.56.140, 2001:610:108:203b:0:a11:da7a:5afe, ...\n",
      "Connecting to surfdrive.surf.nl (surfdrive.surf.nl)|145.100.27.67|:443... connected.\n",
      "HTTP request sent, awaiting response... 200 OK\n",
      "Length: 3435 (3.4K) [text/csv]\n",
      "Saving to: ‘memory_data2.csv’\n",
      "\n",
      "memory_data2.csv    100%[===================>]   3.35K  --.-KB/s    in 0s      \n",
      "\n",
      "2025-02-22 21:30:22 (423 MB/s) - ‘memory_data2.csv’ saved [3435/3435]\n",
      "\n"
     ]
    },
    {
     "data": {
      "text/html": [
       "<div>\n",
       "<style scoped>\n",
       "    .dataframe tbody tr th:only-of-type {\n",
       "        vertical-align: middle;\n",
       "    }\n",
       "\n",
       "    .dataframe tbody tr th {\n",
       "        vertical-align: top;\n",
       "    }\n",
       "\n",
       "    .dataframe thead th {\n",
       "        text-align: right;\n",
       "    }\n",
       "</style>\n",
       "<table border=\"1\" class=\"dataframe\">\n",
       "  <thead>\n",
       "    <tr style=\"text-align: right;\">\n",
       "      <th></th>\n",
       "      <th>item</th>\n",
       "      <th>target_or_distractor</th>\n",
       "      <th>confidence</th>\n",
       "      <th>response</th>\n",
       "    </tr>\n",
       "  </thead>\n",
       "  <tbody>\n",
       "    <tr>\n",
       "      <th>0</th>\n",
       "      <td>snob</td>\n",
       "      <td>target</td>\n",
       "      <td>5.0</td>\n",
       "      <td>no</td>\n",
       "    </tr>\n",
       "    <tr>\n",
       "      <th>1</th>\n",
       "      <td>face</td>\n",
       "      <td>distractor</td>\n",
       "      <td>1.0</td>\n",
       "      <td>yes</td>\n",
       "    </tr>\n",
       "    <tr>\n",
       "      <th>2</th>\n",
       "      <td>cashier</td>\n",
       "      <td>target</td>\n",
       "      <td>1.0</td>\n",
       "      <td>yes</td>\n",
       "    </tr>\n",
       "    <tr>\n",
       "      <th>3</th>\n",
       "      <td>trellis</td>\n",
       "      <td>target</td>\n",
       "      <td>3.0</td>\n",
       "      <td>yes</td>\n",
       "    </tr>\n",
       "    <tr>\n",
       "      <th>4</th>\n",
       "      <td>pun</td>\n",
       "      <td>target</td>\n",
       "      <td>2.0</td>\n",
       "      <td>yes</td>\n",
       "    </tr>\n",
       "  </tbody>\n",
       "</table>\n",
       "</div>"
      ],
      "text/plain": [
       "      item target_or_distractor  confidence response\n",
       "0     snob               target         5.0       no\n",
       "1     face           distractor         1.0      yes\n",
       "2  cashier               target         1.0      yes\n",
       "3  trellis               target         3.0      yes\n",
       "4      pun               target         2.0      yes"
      ]
     },
     "execution_count": 2,
     "metadata": {},
     "output_type": "execute_result"
    }
   ],
   "source": [
    "!wget -O memory_data1.csv https://surfdrive.surf.nl/files/index.php/s/fysjGRt1BcEUeT2/download\n",
    "!wget -O memory_data2.csv https://surfdrive.surf.nl/files/index.php/s/lMHd1um7o3qEPLv/download\n",
    "\n",
    "data = pd.read_csv('./memory_data1.csv')\n",
    "data.head()"
   ]
  },
  {
   "cell_type": "markdown",
   "id": "160e089d-3264-4f93-9325-ead4f2fd9353",
   "metadata": {},
   "source": [
    "#### Assignment 1: Hit rates and false alarm rates\n",
    "\n",
    "Using `data`, first make a contingency table. Then, calculate the hit rate and false alarm rate."
   ]
  },
  {
   "cell_type": "code",
   "execution_count": 3,
   "id": "737e981f",
   "metadata": {},
   "outputs": [
    {
     "name": "stdout",
     "output_type": "stream",
     "text": [
      "response                       no           yes           All\n",
      "target_or_distractor                                         \n",
      "distractor             19 (79.2%)    39 (31.0%)    58 (38.7%)\n",
      "target                  5 (20.8%)    87 (69.0%)    92 (61.3%)\n",
      "All                   24 (100.0%)  126 (100.0%)  150 (100.0%)\n"
     ]
    },
    {
     "data": {
      "image/png": "[encoded data removed]",
      "text/plain": [
       "<Figure size 600x400 with 1 Axes>"
      ]
     },
     "metadata": {},
     "output_type": "display_data"
    },
    {
     "name": "stdout",
     "output_type": "stream",
     "text": [
      "Hit Rate: 0.946\n",
      "False Alarm Rate: 0.672\n"
     ]
    }
   ],
   "source": [
    "contingency_table = pd.crosstab(data['target_or_distractor'], data['response'], margins=True) # Counts\n",
    "contingency_table_percentage = contingency_table.div(contingency_table.loc[\"All\"], axis=1) * 100  # Percentage\n",
    "formatted_table = contingency_table.astype(str) + \" (\" + contingency_table_percentage.round(1).astype(str) + \"%)\" #Format\n",
    "print(formatted_table)\n",
    "\n",
    "\n",
    "def plot_contingency_table(data):\n",
    "    contingency_table = pd.crosstab(data['target_or_distractor'], data['response'])\n",
    "    row_sums = contingency_table.sum(axis=1)\n",
    "    percentage_table = contingency_table.div(row_sums, axis=0) * 100\n",
    "    annotations = contingency_table.astype(str) + \"\\n(\" + percentage_table.round(1).astype(str) + \"%)\"\n",
    "    plt.figure(figsize=(6, 4))\n",
    "    ax = sns.heatmap(percentage_table, annot=annotations, fmt=\"\", cmap=\"Blues\", linewidths=0.5, cbar=False)\n",
    "    plt.title(\"Contingency Table: Counts and Percentages\")\n",
    "    plt.xlabel(\"Participant Response\")\n",
    "    plt.ylabel(\"Item Type\")\n",
    "    plt.show()\n",
    "\n",
    "plot_contingency_table(data)\n",
    "\n",
    "\n",
    "# Calculate hit rate and false alarm rate\n",
    "hits = len(data[(data['target_or_distractor'] == 'target') & (data['response'] == 'yes')])\n",
    "misses = len(data[(data['target_or_distractor'] == 'target') & (data['response'] == 'no')])\n",
    "false_alarms = len(data[(data['target_or_distractor'] == 'distractor') & (data['response'] == 'yes')])\n",
    "correct_rejections = len(data[(data['target_or_distractor'] == 'distractor') & (data['response'] == 'no')])\n",
    "\n",
    "# Compute rates\n",
    "hit_rate = hits / (hits + misses)\n",
    "false_alarm_rate = false_alarms / (false_alarms + correct_rejections)\n",
    "\n",
    "print(f\"Hit Rate: {hit_rate:.3f}\")\n",
    "print(f\"False Alarm Rate: {false_alarm_rate:.3f}\")\n"
   ]
  },
  {
   "cell_type": "markdown",
   "id": "bbc04e97-75a7-459c-a6ca-0f821cf08100",
   "metadata": {},
   "source": [
    "## Theory: Receiver-operator characteristic curves\n",
    "\n",
    "Often, participants are also asked to rate how *confident* they were in their judgement. Assume that these confidence ratings are on a scale from 1 to 8, where 1 means \"I am very confident that the item was shown in the study phase\", and 8 means \"I am very confident that the item was not shown in the study phase\".\n",
    "\n",
    "| Rating | Meaning |\n",
    "| - | - |\n",
    "| 1 | Very confident that I've seen this stimulus before ('yes') | \n",
    "| 2 | Confident that I've seen this stimulus before ('yes') | \n",
    "| 3 | Somewhat confident that I've seen this stimulus before ('yes') | \n",
    "| 4 | I'm guessing that I've seen this stimulus before ('yes') | \n",
    "| 5 | I'm guessing that I've not seen this stimulus before ('no') | \n",
    "| 6 | Somewhat confident that I've not seen this stimulus before ('no') | \n",
    "| 7 | Confident that I've seen not this stimulus before ('no') |\n",
    "| 8 | Very confident that I've not seen this stimulus before ('no') |\n",
    "\n",
    "\n",
    "A common way of visualizing the relation between false alarm rates is to plot a *receiver-operator characteristic* curve (ROC). To generate this plot, we calculate the hit rate and the false alarm rate for every confidence rating seperately. Specifically:\n",
    "- We first calculate the hit rate and false alarm rate for only the responses with confidence = 1;\n",
    "- We then calculate the hit rate and false alarm rate for only the responses with confidence = 1 OR 2;\n",
    "- We then calculate the hit rate and false alarm rate for only the responses with confidence = 1 OR 2 OR 3;\n",
    "- We then calculate the hit rate and false alarm rate for only the responses with confidence = 1 OR 2 OR 3 OR 4;\n",
    "- etc\n",
    "- Finally we calculate the hit rate and false alarm rate for all responses\n",
    "\n",
    "**There is an important caveat: In all cases, you divide the number of 'yes'-responses observed in respective confidence rating(s), by the *total* number of targets or lures shown in the experiment**\n",
    "\n",
    "The ROC curve then plots the hit rate on the y-axis against the false alarm rate on the x-xaxis"
   ]
  },
  {
   "cell_type": "markdown",
   "id": "671b36c7-1a0c-4645-bb05-db80099b624e",
   "metadata": {},
   "source": [
    "#### Assignment 2: ROC curve"
   ]
  },
  {
   "cell_type": "markdown",
   "id": "9891a212-ec0f-4fe3-b527-d4e7d5c393a6",
   "metadata": {
    "tags": []
   },
   "source": [
    "<div class='alert alert-warning'>\n",
    "    <b>ToDo</b> Make a function that takes as input a pandas dataframe, and plots the ROC curve. Then use that function to plot the ROC curve of the `data`. It should look like this:\n",
    "    <figure>\n",
    "      <img src=\"https://surfdrive.surf.nl/files/index.php/s/NiYpeHXys9BNgDr/download\" alt=\"ROC\" style=\"width:200pt\">\n",
    "      <figure>\n",
    "</div>"
   ]
  },
  {
   "cell_type": "code",
   "execution_count": 4,
   "id": "12c1dd31",
   "metadata": {},
   "outputs": [],
   "source": [
    "def compute_roc_curve(data):\n",
    "    thresholds = sorted(data['confidence'].unique())\n",
    "    hit_rates = [0]\n",
    "    false_alarm_rates = [0]\n",
    "    total_targets = sum(data['target_or_distractor'] == 'target')\n",
    "    total_distractors = sum(data['target_or_distractor'] == 'distractor')\n",
    "\n",
    "    for t in thresholds:\n",
    "        filtered = data[data['confidence'] <= t]\n",
    "        hits = 0 \n",
    "        false_alarms = 0 \n",
    "\n",
    "        for i, row in filtered.iterrows():\n",
    "            if row['target_or_distractor'] == 'target' and row['response'] == 'yes':\n",
    "                hits += 1  # increment hits for targets\n",
    "            if row['target_or_distractor'] == 'distractor' and row['response'] == 'yes':\n",
    "                false_alarms += 1  # increment false alarms for distractors\n",
    "\n",
    "        if total_targets > 0:\n",
    "            hit_rate = hits / total_targets  # correctly identified target ratio\n",
    "        else:\n",
    "            hit_rate = 0\n",
    "\n",
    "        if total_distractors > 0:\n",
    "            false_alarm_rate = false_alarms / total_distractors \n",
    "        else:\n",
    "            false_alarm_rate = 0\n",
    "        hit_rates.append(hit_rate)  \n",
    "        false_alarm_rates.append(false_alarm_rate)  \n",
    "\n",
    "    hit_rates.append(1)\n",
    "    false_alarm_rates.append(1)\n",
    "\n",
    "    return false_alarm_rates, hit_rates"
   ]
  },
  {
   "cell_type": "code",
   "execution_count": 5,
   "id": "0f840e9f",
   "metadata": {},
   "outputs": [
    {
     "data": {
      "image/png": "[encoded data removed]",
      "text/plain": [
       "<Figure size 600x600 with 1 Axes>"
      ]
     },
     "metadata": {},
     "output_type": "display_data"
    }
   ],
   "source": [
    "def plot_roc_curve(data):\n",
    "    fpr, tpr = compute_roc_curve(data)  # false positive rate (FPR) and true positive rate (TPR)\n",
    "\n",
    "    plt.figure(figsize=(6,6))\n",
    "    plt.plot(fpr, tpr, marker='o', linestyle='-', color='b', label='ROC Curve')  # ROC line\n",
    "    plt.plot([0, 1], [0, 1], linestyle='--', color='gray', label='Chance Level')\n",
    "    plt.xlim([0,1])\n",
    "    plt.ylim([0,1])\n",
    "    plt.xlabel(\"False Alarm Rate\") \n",
    "    plt.ylabel(\"Hit Rate\")\n",
    "    plt.title(\"ROC Curve\")\n",
    "    plt.legend()\n",
    "    plt.grid()\n",
    "    plt.show()\n",
    "\n",
    "plot_roc_curve(data)\n"
   ]
  },
  {
   "cell_type": "markdown",
   "id": "c474e193-6a2e-4ac2-b03a-59590046d1e8",
   "metadata": {},
   "source": [
    "## Theory: Formal models\n",
    "Now that we've explored what empirical data looks like, and how to visualize these data, we will next simulate three models of recognition memory.\n",
    "\n",
    "- Model 1 assumes the participant did not pay any attention during the study phase, and only makes random guesses during the test phase\n",
    "- Model 2 is the unequal-variance signal detection (UVSD) model, described by Wixted (2007)\n",
    "- Model 3 is the dual-process signal detection (DPSD) model, also described by Wixted (2007)"
   ]
  },
  {
   "cell_type": "markdown",
   "id": "e555e6c7-081c-4fce-b4c2-d653773e6f57",
   "metadata": {},
   "source": [
    "### Formal Model 1: Random guessing\n",
    "\n",
    "This is a toy model to help you get started, and illustrate what the ROC curve of random guesses look like. Let's begin fresh and assume that the following items were shown in an experiment:"
   ]
  },
  {
   "cell_type": "code",
   "execution_count": 6,
   "id": "ef03d628-9d64-4e6e-9e2c-07b36ceeea79",
   "metadata": {
    "tags": []
   },
   "outputs": [
    {
     "data": {
      "text/html": [
       "<div>\n",
       "<style scoped>\n",
       "    .dataframe tbody tr th:only-of-type {\n",
       "        vertical-align: middle;\n",
       "    }\n",
       "\n",
       "    .dataframe tbody tr th {\n",
       "        vertical-align: top;\n",
       "    }\n",
       "\n",
       "    .dataframe thead th {\n",
       "        text-align: right;\n",
       "    }\n",
       "</style>\n",
       "<table border=\"1\" class=\"dataframe\">\n",
       "  <thead>\n",
       "    <tr style=\"text-align: right;\">\n",
       "      <th></th>\n",
       "      <th>item</th>\n",
       "      <th>target_or_distractor</th>\n",
       "    </tr>\n",
       "  </thead>\n",
       "  <tbody>\n",
       "    <tr>\n",
       "      <th>0</th>\n",
       "      <td>ranger</td>\n",
       "      <td>target</td>\n",
       "    </tr>\n",
       "    <tr>\n",
       "      <th>1</th>\n",
       "      <td>server</td>\n",
       "      <td>distractor</td>\n",
       "    </tr>\n",
       "    <tr>\n",
       "      <th>2</th>\n",
       "      <td>toad</td>\n",
       "      <td>target</td>\n",
       "    </tr>\n",
       "    <tr>\n",
       "      <th>3</th>\n",
       "      <td>normal</td>\n",
       "      <td>target</td>\n",
       "    </tr>\n",
       "    <tr>\n",
       "      <th>4</th>\n",
       "      <td>lay</td>\n",
       "      <td>distractor</td>\n",
       "    </tr>\n",
       "    <tr>\n",
       "      <th>...</th>\n",
       "      <td>...</td>\n",
       "      <td>...</td>\n",
       "    </tr>\n",
       "    <tr>\n",
       "      <th>195</th>\n",
       "      <td>exhibit</td>\n",
       "      <td>target</td>\n",
       "    </tr>\n",
       "    <tr>\n",
       "      <th>196</th>\n",
       "      <td>reform</td>\n",
       "      <td>distractor</td>\n",
       "    </tr>\n",
       "    <tr>\n",
       "      <th>197</th>\n",
       "      <td>mascara</td>\n",
       "      <td>target</td>\n",
       "    </tr>\n",
       "    <tr>\n",
       "      <th>198</th>\n",
       "      <td>yew</td>\n",
       "      <td>target</td>\n",
       "    </tr>\n",
       "    <tr>\n",
       "      <th>199</th>\n",
       "      <td>pilgrimage</td>\n",
       "      <td>distractor</td>\n",
       "    </tr>\n",
       "  </tbody>\n",
       "</table>\n",
       "<p>200 rows × 2 columns</p>\n",
       "</div>"
      ],
      "text/plain": [
       "           item target_or_distractor\n",
       "0        ranger               target\n",
       "1        server           distractor\n",
       "2          toad               target\n",
       "3        normal               target\n",
       "4           lay           distractor\n",
       "..          ...                  ...\n",
       "195     exhibit               target\n",
       "196      reform           distractor\n",
       "197     mascara               target\n",
       "198         yew               target\n",
       "199  pilgrimage           distractor\n",
       "\n",
       "[200 rows x 2 columns]"
      ]
     },
     "execution_count": 6,
     "metadata": {},
     "output_type": "execute_result"
    }
   ],
   "source": [
    "model1_data = pd.read_csv('./memory_data2.csv')\n",
    "model1_data"
   ]
  },
  {
   "cell_type": "markdown",
   "id": "f044322a-a8f2-418a-8515-d5a9421cd20a",
   "metadata": {},
   "source": [
    "Let's now simulate random guesses. The basic idea is that we assume that participants have a 'baseline memory strength' associated with each item, and that responses are based on those memory strengths"
   ]
  },
  {
   "cell_type": "markdown",
   "id": "3ed60d30-3252-49b5-b083-c1ac830ce023",
   "metadata": {},
   "source": [
    "#### Assignment 3: Simulating random memory strengths"
   ]
  },
  {
   "cell_type": "markdown",
   "id": "44b1559c-483e-4411-bd1a-4e5bb85cb358",
   "metadata": {},
   "source": [
    "<div class='alert alert-warning'>\n",
    "    <b>ToDo</b> Create a new column in `model1_data` called '`memory_strength`. Assign to each item in `model1_data` a random memory_strength, drawn from a normal (Gaussian) distribution, with mean 0 and sd 1.\n",
    "</div>"
   ]
  },
  {
   "cell_type": "code",
   "execution_count": 7,
   "id": "00f09014-52d3-44a1-8aa2-974f1e2e939b",
   "metadata": {
    "tags": []
   },
   "outputs": [
    {
     "data": {
      "text/html": [
       "<div>\n",
       "<style scoped>\n",
       "    .dataframe tbody tr th:only-of-type {\n",
       "        vertical-align: middle;\n",
       "    }\n",
       "\n",
       "    .dataframe tbody tr th {\n",
       "        vertical-align: top;\n",
       "    }\n",
       "\n",
       "    .dataframe thead th {\n",
       "        text-align: right;\n",
       "    }\n",
       "</style>\n",
       "<table border=\"1\" class=\"dataframe\">\n",
       "  <thead>\n",
       "    <tr style=\"text-align: right;\">\n",
       "      <th></th>\n",
       "      <th>item</th>\n",
       "      <th>target_or_distractor</th>\n",
       "      <th>memory_strength</th>\n",
       "      <th>response</th>\n",
       "    </tr>\n",
       "  </thead>\n",
       "  <tbody>\n",
       "    <tr>\n",
       "      <th>0</th>\n",
       "      <td>ranger</td>\n",
       "      <td>target</td>\n",
       "      <td>0.496714</td>\n",
       "      <td>no</td>\n",
       "    </tr>\n",
       "    <tr>\n",
       "      <th>1</th>\n",
       "      <td>server</td>\n",
       "      <td>distractor</td>\n",
       "      <td>-0.138264</td>\n",
       "      <td>no</td>\n",
       "    </tr>\n",
       "    <tr>\n",
       "      <th>2</th>\n",
       "      <td>toad</td>\n",
       "      <td>target</td>\n",
       "      <td>0.647689</td>\n",
       "      <td>yes</td>\n",
       "    </tr>\n",
       "    <tr>\n",
       "      <th>3</th>\n",
       "      <td>normal</td>\n",
       "      <td>target</td>\n",
       "      <td>1.523030</td>\n",
       "      <td>no</td>\n",
       "    </tr>\n",
       "    <tr>\n",
       "      <th>4</th>\n",
       "      <td>lay</td>\n",
       "      <td>distractor</td>\n",
       "      <td>-0.234153</td>\n",
       "      <td>yes</td>\n",
       "    </tr>\n",
       "  </tbody>\n",
       "</table>\n",
       "</div>"
      ],
      "text/plain": [
       "     item target_or_distractor  memory_strength response\n",
       "0  ranger               target         0.496714       no\n",
       "1  server           distractor        -0.138264       no\n",
       "2    toad               target         0.647689      yes\n",
       "3  normal               target         1.523030       no\n",
       "4     lay           distractor        -0.234153      yes"
      ]
     },
     "execution_count": 7,
     "metadata": {},
     "output_type": "execute_result"
    }
   ],
   "source": [
    "np.random.seed(42)\n",
    "\n",
    "model1_data['memory_strength'] = np.random.normal(0, 1, size=len(model1_data))\n",
    "model1_data['response'] = np.random.choice(['yes', 'no'], size=len(model1_data)) # Assign random responses (because this is a guessing model)\n",
    "\n",
    "model1_data.head()"
   ]
  },
  {
   "cell_type": "code",
   "execution_count": 21,
   "id": "62a12795",
   "metadata": {},
   "outputs": [
    {
     "data": {
      "text/plain": [
       "count    200.000000\n",
       "mean      -0.040771\n",
       "std        0.931004\n",
       "min       -2.619745\n",
       "25%       -0.705128\n",
       "50%       -0.004192\n",
       "75%        0.500852\n",
       "max        2.720169\n",
       "Name: memory_strength, dtype: float64"
      ]
     },
     "execution_count": 21,
     "metadata": {},
     "output_type": "execute_result"
    }
   ],
   "source": [
    "model1_data['memory_strength'].describe()"
   ]
  },
  {
   "cell_type": "markdown",
   "id": "9b592f14-9554-4d9c-9994-9da42b4dc9fa",
   "metadata": {},
   "source": [
    "Once that's done, you can use the `get_confidence` function below to categorize responses"
   ]
  },
  {
   "cell_type": "code",
   "execution_count": 9,
   "id": "6622a2a5-d5f6-4ab1-9ac4-4327fe71ad0a",
   "metadata": {
    "tags": []
   },
   "outputs": [],
   "source": [
    "def get_cuts(n_confidence_bins=8, strength_for_max_confidence=1.5):\n",
    "    bin_sizes = np.hstack(([-strength_for_max_confidence], np.ones(n_confidence_bins-2)*(3/(n_confidence_bins-2))))\n",
    "    cuts = np.cumsum(bin_sizes)[::-1]\n",
    "    return cuts\n",
    "\n",
    "def get_confidence(memory_strength, n_confidence_bins=8, strength_for_max_confidence=1.5):\n",
    "    ''' Based on memory strength, determine confidence rating.\n",
    "    confidence rating = 1 means 'I am very sure this item is old (was shown in the study phase)'\n",
    "    confidence rating = n_bins means 'I am very sure this item is new (was not shown in the study phase)'\n",
    "    \n",
    "    Items with a memory strength of >= strength_for_max_confidence will always get a maximum confidence rating (n_bins)\n",
    "    Items with a memory strength of strength_for_maximum_confidence-3 will always get the minimum rating (1)\n",
    "    The range in between [strength_for_maximum_confidence-3, strength_for_max_confidence] is cut into n_bins equally-sized bins\n",
    "    '''\n",
    "    cuts = get_cuts(n_confidence_bins, strength_for_max_confidence)\n",
    "    cuts = np.hstack((cuts, [-np.Inf]))\n",
    "    \n",
    "    # categorize\n",
    "    confidence = np.zeros_like(memory_strength)\n",
    "    for i in range(len(cuts)):\n",
    "        if i == 1:\n",
    "            idx = memory_strength > cuts[i]\n",
    "        else:\n",
    "            idx = (memory_strength < cuts[i-1]) & (memory_strength >= cuts[i])\n",
    "        confidence[idx] = i\n",
    "    \n",
    "    return confidence\n"
   ]
  },
  {
   "cell_type": "code",
   "execution_count": 10,
   "id": "878ce442-54ba-4da0-9000-ff2ec57568d2",
   "metadata": {
    "tags": []
   },
   "outputs": [],
   "source": [
    "model1_data['confidence'] = get_confidence(model1_data['memory_strength'])"
   ]
  },
  {
   "cell_type": "code",
   "execution_count": 11,
   "id": "a1477d44",
   "metadata": {},
   "outputs": [
    {
     "data": {
      "text/html": [
       "<div>\n",
       "<style scoped>\n",
       "    .dataframe tbody tr th:only-of-type {\n",
       "        vertical-align: middle;\n",
       "    }\n",
       "\n",
       "    .dataframe tbody tr th {\n",
       "        vertical-align: top;\n",
       "    }\n",
       "\n",
       "    .dataframe thead th {\n",
       "        text-align: right;\n",
       "    }\n",
       "</style>\n",
       "<table border=\"1\" class=\"dataframe\">\n",
       "  <thead>\n",
       "    <tr style=\"text-align: right;\">\n",
       "      <th></th>\n",
       "      <th>item</th>\n",
       "      <th>target_or_distractor</th>\n",
       "      <th>memory_strength</th>\n",
       "      <th>response</th>\n",
       "      <th>confidence</th>\n",
       "    </tr>\n",
       "  </thead>\n",
       "  <tbody>\n",
       "    <tr>\n",
       "      <th>0</th>\n",
       "      <td>ranger</td>\n",
       "      <td>target</td>\n",
       "      <td>0.496714</td>\n",
       "      <td>no</td>\n",
       "      <td>3.0</td>\n",
       "    </tr>\n",
       "    <tr>\n",
       "      <th>1</th>\n",
       "      <td>server</td>\n",
       "      <td>distractor</td>\n",
       "      <td>-0.138264</td>\n",
       "      <td>no</td>\n",
       "      <td>4.0</td>\n",
       "    </tr>\n",
       "    <tr>\n",
       "      <th>2</th>\n",
       "      <td>toad</td>\n",
       "      <td>target</td>\n",
       "      <td>0.647689</td>\n",
       "      <td>yes</td>\n",
       "      <td>2.0</td>\n",
       "    </tr>\n",
       "    <tr>\n",
       "      <th>3</th>\n",
       "      <td>normal</td>\n",
       "      <td>target</td>\n",
       "      <td>1.523030</td>\n",
       "      <td>no</td>\n",
       "      <td>1.0</td>\n",
       "    </tr>\n",
       "    <tr>\n",
       "      <th>4</th>\n",
       "      <td>lay</td>\n",
       "      <td>distractor</td>\n",
       "      <td>-0.234153</td>\n",
       "      <td>yes</td>\n",
       "      <td>4.0</td>\n",
       "    </tr>\n",
       "  </tbody>\n",
       "</table>\n",
       "</div>"
      ],
      "text/plain": [
       "     item target_or_distractor  memory_strength response  confidence\n",
       "0  ranger               target         0.496714       no         3.0\n",
       "1  server           distractor        -0.138264       no         4.0\n",
       "2    toad               target         0.647689      yes         2.0\n",
       "3  normal               target         1.523030       no         1.0\n",
       "4     lay           distractor        -0.234153      yes         4.0"
      ]
     },
     "execution_count": 11,
     "metadata": {},
     "output_type": "execute_result"
    }
   ],
   "source": [
    "model1_data.head()"
   ]
  },
  {
   "cell_type": "markdown",
   "id": "1383a672-acac-4347-83a8-1e8c04301b0d",
   "metadata": {
    "tags": []
   },
   "source": [
    "#### Assignment 4"
   ]
  },
  {
   "cell_type": "markdown",
   "id": "bb921b73-2f46-49ed-b713-952021885740",
   "metadata": {},
   "source": [
    "<div class='alert alert-warning'>\n",
    "    <b>ToDo</b> Plot the ROC curve of this model\n",
    "</div>"
   ]
  },
  {
   "cell_type": "code",
   "execution_count": 12,
   "id": "03c863c9-a191-4ac6-ab82-d38b59d19778",
   "metadata": {
    "tags": []
   },
   "outputs": [],
   "source": [
    "def compute_roc_curve(data):\n",
    "    conf_levels = sorted(data['confidence'].unique())\n",
    "\n",
    "    hit_rates = [0]\n",
    "    false_alarm_rates = [0]\n",
    "    total_targets = sum(data['target_or_distractor'] == 'target')  \n",
    "    total_distractors = sum(data['target_or_distractor'] == 'distractor')  \n",
    "\n",
    "    for t in conf_levels:\n",
    "        filtered = data[data['confidence'] <= t]\n",
    "        hits = 0\n",
    "        false_alarms = 0\n",
    "        for _, row in filtered.iterrows():\n",
    "            if row['target_or_distractor'] == 'target' and row['response'] == 'yes':\n",
    "                hits += 1  \n",
    "            if row['target_or_distractor'] == 'distractor' and row['response'] == 'yes':\n",
    "                false_alarms += 1  \n",
    "\n",
    "        # Compute hit and false alarm rates\n",
    "        if total_targets > 0:\n",
    "            hit_rate = hits / total_targets  \n",
    "        else:\n",
    "            hit_rate = 0  \n",
    "\n",
    "        if total_distractors > 0:\n",
    "            false_alarm_rate = false_alarms / total_distractors  \n",
    "        else:\n",
    "            false_alarm_rate = 0  \n",
    "\n",
    "        hit_rates.append(hit_rate)  \n",
    "        false_alarm_rates.append(false_alarm_rate)  \n",
    "    hit_rates.append(1)\n",
    "    false_alarm_rates.append(1)\n",
    "\n",
    "    return false_alarm_rates, hit_rates\n"
   ]
  },
  {
   "cell_type": "code",
   "execution_count": 13,
   "id": "780e497a",
   "metadata": {},
   "outputs": [
    {
     "data": {
      "image/png": "[encoded data removed]",
      "text/plain": [
       "<Figure size 600x600 with 1 Axes>"
      ]
     },
     "metadata": {},
     "output_type": "display_data"
    }
   ],
   "source": [
    "def plot_roc_curve(data):\n",
    "    # Compute hit rates and false alarm rates\n",
    "    fpr, tpr = compute_roc_curve(data)  \n",
    "\n",
    "    plt.figure(figsize=(6,6))\n",
    "    plt.plot(fpr, tpr, marker='o', linestyle='-', color='b', label='ROC Curve')  # main curve\n",
    "    plt.plot([0,1], [0,1], '--', color='gray', label='Chance')  # reference diagonal\n",
    "    plt.xlim([0,1])\n",
    "    plt.ylim([0,1])\n",
    "    plt.xlabel(\"False Alarm Rate\")  \n",
    "    plt.ylabel(\"Hit Rate\")  \n",
    "    plt.title(\"ROC Curve for Random Guessing Model\")  \n",
    "    plt.legend()\n",
    "    plt.grid()\n",
    "    plt.show()\n",
    "plot_roc_curve(model1_data)\n"
   ]
  },
  {
   "cell_type": "markdown",
   "id": "2a77fd7f-eddb-4eb3-9c21-f7bb48d69a53",
   "metadata": {},
   "source": [
    "### Formal Model 2: UVSD\n",
    "\n",
    "This model is described my Wixted (2007). It assumes that *distractors* (so items *not* shown in the study phase) have a 'baseline' memory strength, drawn from a Normal distribution with mean 0 and sd 1. *Targets* have a higher memory strength, drawn from a Normal distribution with mean > 0 and sd > 1. To begin simulating this model, start afresh again by loading the empty experimental paradigm:"
   ]
  },
  {
   "cell_type": "code",
   "execution_count": 14,
   "id": "c39bb3b7-f004-4ffd-ac80-ddc2296bafed",
   "metadata": {
    "tags": []
   },
   "outputs": [
    {
     "data": {
      "text/html": [
       "<div>\n",
       "<style scoped>\n",
       "    .dataframe tbody tr th:only-of-type {\n",
       "        vertical-align: middle;\n",
       "    }\n",
       "\n",
       "    .dataframe tbody tr th {\n",
       "        vertical-align: top;\n",
       "    }\n",
       "\n",
       "    .dataframe thead th {\n",
       "        text-align: right;\n",
       "    }\n",
       "</style>\n",
       "<table border=\"1\" class=\"dataframe\">\n",
       "  <thead>\n",
       "    <tr style=\"text-align: right;\">\n",
       "      <th></th>\n",
       "      <th>item</th>\n",
       "      <th>target_or_distractor</th>\n",
       "    </tr>\n",
       "  </thead>\n",
       "  <tbody>\n",
       "    <tr>\n",
       "      <th>0</th>\n",
       "      <td>ranger</td>\n",
       "      <td>target</td>\n",
       "    </tr>\n",
       "    <tr>\n",
       "      <th>1</th>\n",
       "      <td>server</td>\n",
       "      <td>distractor</td>\n",
       "    </tr>\n",
       "    <tr>\n",
       "      <th>2</th>\n",
       "      <td>toad</td>\n",
       "      <td>target</td>\n",
       "    </tr>\n",
       "    <tr>\n",
       "      <th>3</th>\n",
       "      <td>normal</td>\n",
       "      <td>target</td>\n",
       "    </tr>\n",
       "    <tr>\n",
       "      <th>4</th>\n",
       "      <td>lay</td>\n",
       "      <td>distractor</td>\n",
       "    </tr>\n",
       "    <tr>\n",
       "      <th>...</th>\n",
       "      <td>...</td>\n",
       "      <td>...</td>\n",
       "    </tr>\n",
       "    <tr>\n",
       "      <th>195</th>\n",
       "      <td>exhibit</td>\n",
       "      <td>target</td>\n",
       "    </tr>\n",
       "    <tr>\n",
       "      <th>196</th>\n",
       "      <td>reform</td>\n",
       "      <td>distractor</td>\n",
       "    </tr>\n",
       "    <tr>\n",
       "      <th>197</th>\n",
       "      <td>mascara</td>\n",
       "      <td>target</td>\n",
       "    </tr>\n",
       "    <tr>\n",
       "      <th>198</th>\n",
       "      <td>yew</td>\n",
       "      <td>target</td>\n",
       "    </tr>\n",
       "    <tr>\n",
       "      <th>199</th>\n",
       "      <td>pilgrimage</td>\n",
       "      <td>distractor</td>\n",
       "    </tr>\n",
       "  </tbody>\n",
       "</table>\n",
       "<p>200 rows × 2 columns</p>\n",
       "</div>"
      ],
      "text/plain": [
       "           item target_or_distractor\n",
       "0        ranger               target\n",
       "1        server           distractor\n",
       "2          toad               target\n",
       "3        normal               target\n",
       "4           lay           distractor\n",
       "..          ...                  ...\n",
       "195     exhibit               target\n",
       "196      reform           distractor\n",
       "197     mascara               target\n",
       "198         yew               target\n",
       "199  pilgrimage           distractor\n",
       "\n",
       "[200 rows x 2 columns]"
      ]
     },
     "execution_count": 14,
     "metadata": {},
     "output_type": "execute_result"
    }
   ],
   "source": [
    "model2_data = pd.read_csv('./memory_data2.csv')\n",
    "model2_data"
   ]
  },
  {
   "cell_type": "markdown",
   "id": "c1b988c3-7d97-4a9b-802b-180fe02b3f9c",
   "metadata": {},
   "source": [
    "#### Assignment 5: Simulating memory strengths of the UVSD model"
   ]
  },
  {
   "cell_type": "markdown",
   "id": "870e958b-d35e-4d98-9770-d1e3789b0742",
   "metadata": {},
   "source": [
    "<div class='alert alert-warning'>\n",
    "    <b>ToDo</b> Simulate the memory strengths. For all `distractor` items, the memory strength is drawn from a Normal distribution with mean=0 and sd=1. For all `target` items, draw from a Normal distribution with mean=2 and sd=2.\n",
    "</div>"
   ]
  },
  {
   "cell_type": "code",
   "execution_count": null,
   "id": "fcc115ae-64b4-489e-b7f6-bdde3fb8dab8",
   "metadata": {
    "tags": []
   },
   "outputs": [],
   "source": [
    "# your answer here"
   ]
  },
  {
   "cell_type": "markdown",
   "id": "1aafc6e6-3668-46dc-8f13-583d763eb348",
   "metadata": {
    "tags": []
   },
   "source": [
    "<div class='alert alert-warning'>\n",
    "    <b>ToDo</b> Next, add the confidence ratings using the `get_confidence` function, and plot the ROC curve\n",
    "</div>"
   ]
  },
  {
   "cell_type": "code",
   "execution_count": 16,
   "id": "25245d5e-c2b9-47ef-9a0f-d2a31937dd8b",
   "metadata": {
    "tags": []
   },
   "outputs": [],
   "source": [
    "# your answer here"
   ]
  },
  {
   "cell_type": "markdown",
   "id": "3cbefae9-ca36-4d5e-93a4-f5c3c4010f47",
   "metadata": {},
   "source": [
    "### Formal Model 3: DPSD\n",
    "\n",
    "This model is described by Wixted (2007) and by Yonelinas (1996). It assumes that there are two processes in recognition memory. One process is the *recollection* process, and implies that a proportion of all items is correctly remembered, and immediately assigned the maximum confidence rating (i.e., 1 or 8, depending on whether it was a distractor or a target). If recollection fails, then the second process starts, which is a judgement based on the *familiarity* of an item.\n",
    "It assumes that *distractors* (so items *not* shown in the study phase) have a 'baseline' memory strength ('familiarity'), drawn from a Normal distribution with mean 0 and sd 1. *Targets* have a higher memory strength ('familiarity'), drawn from a Normal distribution with mean > 0 and sd = 1 (NB: so the *same* variance as the distractor items).\n",
    "\n",
    "To begin simulating this model, start afresh again by loading the empty experimental paradigm:"
   ]
  },
  {
   "cell_type": "code",
   "execution_count": 17,
   "id": "fed5841c-86f7-45d2-baaf-19bd781a26ac",
   "metadata": {
    "tags": []
   },
   "outputs": [
    {
     "data": {
      "text/html": [
       "<div>\n",
       "<style scoped>\n",
       "    .dataframe tbody tr th:only-of-type {\n",
       "        vertical-align: middle;\n",
       "    }\n",
       "\n",
       "    .dataframe tbody tr th {\n",
       "        vertical-align: top;\n",
       "    }\n",
       "\n",
       "    .dataframe thead th {\n",
       "        text-align: right;\n",
       "    }\n",
       "</style>\n",
       "<table border=\"1\" class=\"dataframe\">\n",
       "  <thead>\n",
       "    <tr style=\"text-align: right;\">\n",
       "      <th></th>\n",
       "      <th>item</th>\n",
       "      <th>target_or_distractor</th>\n",
       "    </tr>\n",
       "  </thead>\n",
       "  <tbody>\n",
       "    <tr>\n",
       "      <th>0</th>\n",
       "      <td>ranger</td>\n",
       "      <td>target</td>\n",
       "    </tr>\n",
       "    <tr>\n",
       "      <th>1</th>\n",
       "      <td>server</td>\n",
       "      <td>distractor</td>\n",
       "    </tr>\n",
       "    <tr>\n",
       "      <th>2</th>\n",
       "      <td>toad</td>\n",
       "      <td>target</td>\n",
       "    </tr>\n",
       "    <tr>\n",
       "      <th>3</th>\n",
       "      <td>normal</td>\n",
       "      <td>target</td>\n",
       "    </tr>\n",
       "    <tr>\n",
       "      <th>4</th>\n",
       "      <td>lay</td>\n",
       "      <td>distractor</td>\n",
       "    </tr>\n",
       "    <tr>\n",
       "      <th>...</th>\n",
       "      <td>...</td>\n",
       "      <td>...</td>\n",
       "    </tr>\n",
       "    <tr>\n",
       "      <th>195</th>\n",
       "      <td>exhibit</td>\n",
       "      <td>target</td>\n",
       "    </tr>\n",
       "    <tr>\n",
       "      <th>196</th>\n",
       "      <td>reform</td>\n",
       "      <td>distractor</td>\n",
       "    </tr>\n",
       "    <tr>\n",
       "      <th>197</th>\n",
       "      <td>mascara</td>\n",
       "      <td>target</td>\n",
       "    </tr>\n",
       "    <tr>\n",
       "      <th>198</th>\n",
       "      <td>yew</td>\n",
       "      <td>target</td>\n",
       "    </tr>\n",
       "    <tr>\n",
       "      <th>199</th>\n",
       "      <td>pilgrimage</td>\n",
       "      <td>distractor</td>\n",
       "    </tr>\n",
       "  </tbody>\n",
       "</table>\n",
       "<p>200 rows × 2 columns</p>\n",
       "</div>"
      ],
      "text/plain": [
       "           item target_or_distractor\n",
       "0        ranger               target\n",
       "1        server           distractor\n",
       "2          toad               target\n",
       "3        normal               target\n",
       "4           lay           distractor\n",
       "..          ...                  ...\n",
       "195     exhibit               target\n",
       "196      reform           distractor\n",
       "197     mascara               target\n",
       "198         yew               target\n",
       "199  pilgrimage           distractor\n",
       "\n",
       "[200 rows x 2 columns]"
      ]
     },
     "execution_count": 17,
     "metadata": {},
     "output_type": "execute_result"
    }
   ],
   "source": [
    "model3_data = pd.read_csv('./memory_data2.csv')\n",
    "model3_data"
   ]
  },
  {
   "cell_type": "markdown",
   "id": "6f9a6ea7-3ec1-49d3-b33a-768a4ce09649",
   "metadata": {},
   "source": [
    "#### Assignment 6 part 1: Simulate confidence ratings of recollected items"
   ]
  },
  {
   "cell_type": "markdown",
   "id": "7bcd22d5-7075-4621-a390-7d4c2fea184b",
   "metadata": {},
   "source": [
    "<div class='alert alert-warning'>\n",
    "    <b>ToDo</b> Simulate process 1. Assume 20% of the items is correctly recollection, and immediately assign the highest confidence ratings (1 for targets, 8 for distractors) to these items\n",
    "</div>"
   ]
  },
  {
   "cell_type": "code",
   "execution_count": 18,
   "id": "e1963c04-4683-4be8-b4ff-aad33581a828",
   "metadata": {
    "tags": []
   },
   "outputs": [],
   "source": [
    "# your answer here"
   ]
  },
  {
   "cell_type": "markdown",
   "id": "385d8d30-861b-49fc-ac5a-40ccbcaf4f5a",
   "metadata": {},
   "source": [
    "#### Assignment 6 part 2: Simulate memory strengths of the other items"
   ]
  },
  {
   "cell_type": "markdown",
   "id": "0963a4bd-4e7e-40f6-a97e-0fb40ef7dddd",
   "metadata": {},
   "source": [
    "<div class='alert alert-warning'>\n",
    "    <b>ToDo</b> Simulate process 2. For the items that were *not* recollected, assign a `memory_strength`. For distractor items, the memory strength is drawn from a Normal distribution with mean 0 and sd 1; for target items, the memory strength is drawn from a Normal distribution with mean 1 and sd 1. After simulating these `memory_strengths`, assign confidence ratings using the `get_confidence` function\n",
    "</div>"
   ]
  },
  {
   "cell_type": "code",
   "execution_count": 19,
   "id": "d0501452-01e7-4812-adad-d694e0d125c4",
   "metadata": {
    "tags": []
   },
   "outputs": [],
   "source": [
    "# your answer here"
   ]
  },
  {
   "cell_type": "markdown",
   "id": "81b9e9ab-a507-438e-a0c3-33322d6ec06f",
   "metadata": {},
   "source": [
    "#### Assignment 7. Plot the ROC curve of the DPSD model"
   ]
  },
  {
   "cell_type": "code",
   "execution_count": 20,
   "id": "55b73abc-c451-47b1-bfc2-de870d1ccbec",
   "metadata": {
    "tags": []
   },
   "outputs": [],
   "source": [
    "# your answer here"
   ]
  }
 ],
 "metadata": {
  "kernelspec": {
   "display_name": "base",
   "language": "python",
   "name": "python3"
  },
  "language_info": {
   "codemirror_mode": {
    "name": "ipython",
    "version": 3
   },
   "file_extension": ".py",
   "mimetype": "text/x-python",
   "name": "python",
   "nbconvert_exporter": "python",
   "pygments_lexer": "ipython3",
   "version": "3.12.2"
  }
 },
 "nbformat": 4,
 "nbformat_minor": 5
}
